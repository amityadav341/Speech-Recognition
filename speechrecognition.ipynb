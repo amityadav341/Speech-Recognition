{
 "cells": [
  {
   "cell_type": "code",
   "execution_count": null,
   "metadata": {},
   "outputs": [],
   "source": [
    "#here the written code convert text into audio file"
   ]
  },
  {
   "cell_type": "code",
   "execution_count": 13,
   "metadata": {},
   "outputs": [
    {
     "data": {
      "text/plain": [
       "0"
      ]
     },
     "execution_count": 13,
     "metadata": {},
     "output_type": "execute_result"
    }
   ],
   "source": [
    "from gtts import gTTS\n",
    "import os\n",
    "Text=\"How can i help you\"\n",
    "language ='en'\n",
    "output = gTTS(text=Text,lang=language,slow=False)\n",
    "output.save('output.mp3')\n",
    "os.system(\"start output.mp3\")"
   ]
  },
  {
   "cell_type": "code",
   "execution_count": null,
   "metadata": {},
   "outputs": [],
   "source": [
    "#we can use text file and stored in text variable as string in this way we can covert text file also\n",
    "#we can take also help of pandas library for reading text\n",
    "#we can change Audio language instructing language variable"
   ]
  },
  {
   "cell_type": "code",
   "execution_count": null,
   "metadata": {},
   "outputs": [],
   "source": [
    "#here wriiten code recoganized your speech and print it"
   ]
  },
  {
   "cell_type": "code",
   "execution_count": 14,
   "metadata": {},
   "outputs": [
    {
     "name": "stdout",
     "output_type": "stream",
     "text": [
      "Say something\n",
      "my name is Amit\n"
     ]
    }
   ],
   "source": [
    "import speech_recognition as sr\n",
    "r=sr.Recognizer()\n",
    "with sr.Microphone() as source:\n",
    "    print('Say something')\n",
    "    audio =r.listen(source)\n",
    "    v=r.recognize_google(audio)\n",
    "    print(v)"
   ]
  },
  {
   "cell_type": "code",
   "execution_count": null,
   "metadata": {},
   "outputs": [],
   "source": [
    "#here we can also "
   ]
  },
  {
   "cell_type": "code",
   "execution_count": 15,
   "metadata": {},
   "outputs": [
    {
     "data": {
      "text/plain": [
       "0"
      ]
     },
     "execution_count": 15,
     "metadata": {},
     "output_type": "execute_result"
    }
   ],
   "source": [
    "output = gTTS(text=v,lang=language,slow=False)\n",
    "output.save('output.mp3')\n",
    "os.system(\"start output.mp3\")"
   ]
  },
  {
   "cell_type": "code",
   "execution_count": null,
   "metadata": {},
   "outputs": [],
   "source": [
    "# we can print table of any number commonding by your voice\n",
    "#if i command print table 13 it w"
   ]
  },
  {
   "cell_type": "code",
   "execution_count": 16,
   "metadata": {},
   "outputs": [
    {
     "name": "stdout",
     "output_type": "stream",
     "text": [
      "Say something\n",
      "print table of 13\n",
      "13 * 1 = 13\n",
      "13 * 2 = 26\n",
      "13 * 3 = 39\n",
      "13 * 4 = 52\n",
      "13 * 5 = 65\n",
      "13 * 6 = 78\n",
      "13 * 7 = 91\n",
      "13 * 8 = 104\n",
      "13 * 9 = 117\n",
      "13 * 10 = 130\n"
     ]
    }
   ],
   "source": [
    "r=sr.Recognizer()\n",
    "with sr.Microphone() as source:\n",
    "    print('Say something')\n",
    "    audio =r.listen(source)\n",
    "    v=r.recognize_google(audio)\n",
    "    print(v)\n",
    "    \n",
    "for i in v.split():\n",
    "    if i.isdigit():\n",
    "      break;\n",
    "for k in range(1,11):\n",
    "  print(i,\"*\",k,\"=\",int(i)*k)"
   ]
  },
  {
   "cell_type": "code",
   "execution_count": null,
   "metadata": {},
   "outputs": [],
   "source": [
    "#we can perform simple calculation like add multiply divide substract commanding by my voice\n",
    "#if command add 17 and 13 it will print 30\n",
    "#sme for multiply divide subtract"
   ]
  },
  {
   "cell_type": "code",
   "execution_count": 20,
   "metadata": {},
   "outputs": [
    {
     "name": "stdout",
     "output_type": "stream",
     "text": [
      "Say something\n",
      "subtract 15 from 30\n",
      "subtract = 15\n"
     ]
    }
   ],
   "source": [
    "r=sr.Recognizer()\n",
    "with sr.Microphone() as source:\n",
    "    print('Say something')\n",
    "    audio =r.listen(source)\n",
    "    v=r.recognize_google(audio)\n",
    "    print(v)\n",
    "j=0 \n",
    "for i in v.split():\n",
    "    if i==\"add\":\n",
    "      break;\n",
    "    elif i==\"multiply\":\n",
    "      break;\n",
    "    elif i==\"divide\":\n",
    "      break;\n",
    "    elif i==\"subtract\":\n",
    "      break;\n",
    "if i==\"add\":    \n",
    "    for k in v.split():\n",
    "        if k.isdigit():\n",
    "          j+=int(k)\n",
    "elif i==\"multiply\":\n",
    "    j=1\n",
    "    for k in v.split():\n",
    "        if k.isdigit():\n",
    "          j*=int(k)\n",
    "elif i==\"divide\":\n",
    "    c=0\n",
    "    for k in v.split():\n",
    "        if k.isdigit():\n",
    "            if c<1:\n",
    "                a=int(k)\n",
    "                c+=1\n",
    "            if c>=1:\n",
    "                b=int(k)\n",
    "    j=a/b\n",
    "elif i==\"subtract\":\n",
    "    c=0\n",
    "    for k in v.split():\n",
    "        if k.isdigit():\n",
    "            if c<1:\n",
    "                a=int(k)\n",
    "                c+=1\n",
    "            if c>=1:\n",
    "                b=int(k)\n",
    "    j=b-a\n",
    "print(i,\"=\",j)"
   ]
  },
  {
   "cell_type": "code",
   "execution_count": null,
   "metadata": {},
   "outputs": [],
   "source": []
  }
 ],
 "metadata": {
  "kernelspec": {
   "display_name": "Python 3",
   "language": "python",
   "name": "python3"
  },
  "language_info": {
   "codemirror_mode": {
    "name": "ipython",
    "version": 3
   },
   "file_extension": ".py",
   "mimetype": "text/x-python",
   "name": "python",
   "nbconvert_exporter": "python",
   "pygments_lexer": "ipython3",
   "version": "3.7.4"
  }
 },
 "nbformat": 4,
 "nbformat_minor": 4
}
